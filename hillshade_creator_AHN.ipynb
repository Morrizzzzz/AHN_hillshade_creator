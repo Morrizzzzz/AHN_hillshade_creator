{
 "cells": [
  {
   "cell_type": "code",
   "execution_count": null,
   "id": "b9574f4a",
   "metadata": {},
   "outputs": [
    {
     "name": "stdout",
     "output_type": "stream",
     "text": [
      "Downloading: M_01GN2.tif\n"
     ]
    },
    {
     "name": "stderr",
     "output_type": "stream",
     "text": [
      "C:\\Users\\mtmde\\AppData\\Local\\Temp\\ipykernel_39204\\2861931695.py:42: RuntimeWarning: overflow encountered in square\n",
      "  slope = np.pi / 2.0 - np.arctan(np.sqrt(x**2 + y**2))\n"
     ]
    },
    {
     "name": "stdout",
     "output_type": "stream",
     "text": [
      "Hillshade saved: c://temp//hillshade_M_01GN2.tif\n",
      "Deleted: dems\\M_01GN2.tif\n",
      "Downloading: M_02DZ1.tif\n",
      "Hillshade saved: c://temp//hillshade_M_02DZ1.tif\n",
      "Deleted: dems\\M_02DZ1.tif\n"
     ]
    }
   ],
   "source": [
    "import rasterio\n",
    "import numpy as np\n",
    "from rasterio.enums import Resampling\n",
    "import matplotlib.pyplot as plt\n",
    "import os\n",
    "import requests\n",
    "import json\n",
    "\n",
    "# URL to the kaartbladindex.json file\n",
    "json_url = \"https://service.pdok.nl/rws/ahn/atom/downloads/dtm_05m/kaartbladindex.json\"\n",
    "\n",
    "# Set the output folder\n",
    "output_folder = \"c://temp//\"\n",
    "\n",
    "# Download and load JSON data directly from the URL\n",
    "response = requests.get(json_url)\n",
    "response.raise_for_status()  # Raise an error if the request fails\n",
    "data = response.json()\n",
    "\n",
    "# Extract all URLs\n",
    "urls = [feature['properties']['url'] for feature in data['features'] if 'url' in feature['properties']]\n",
    "print(len(urls))\n",
    "\n",
    "# there are 1373 urls in file \n",
    "dem_urls = urls[:2] #Change this to 1373 in order to get all the files\n",
    "\n",
    "def download_file(url, dest_folder=\"dems\"):\n",
    "    os.makedirs(dest_folder, exist_ok=True)\n",
    "    filename = os.path.basename(url)\n",
    "    local_path = os.path.join(dest_folder, filename)\n",
    "\n",
    "    if not os.path.exists(local_path):\n",
    "        print(f\"Downloading: {filename}\")\n",
    "        response = requests.get(url, stream=True)\n",
    "        with open(local_path, 'wb') as f:\n",
    "            for chunk in response.iter_content(chunk_size=8192):\n",
    "                f.write(chunk)\n",
    "    else:\n",
    "        print(f\"Already downloaded: {filename}\")\n",
    "\n",
    "    return local_path\n",
    "\n",
    "def compute_hillshade(elevation, azimuth=315, altitude=45):\n",
    "    x, y = np.gradient(elevation)\n",
    "    slope = np.pi / 2.0 - np.arctan(np.sqrt(x**2 + y**2))\n",
    "    aspect = np.arctan2(-x, y)\n",
    "\n",
    "    azimuth_rad = np.radians(azimuth)\n",
    "    altitude_rad = np.radians(altitude)\n",
    "\n",
    "    shaded = (\n",
    "        np.sin(altitude_rad) * np.sin(slope) +\n",
    "        np.cos(altitude_rad) * np.cos(slope) * np.cos(azimuth_rad - aspect)\n",
    "    )\n",
    "\n",
    "    hillshade = 255 * shaded\n",
    "    return np.clip(hillshade, 0, 255).astype(np.uint8)\n",
    "\n",
    "def process_dem(input_path, output_path):\n",
    "    with rasterio.open(input_path) as src:\n",
    "        elevation = src.read(1, resampling=Resampling.bilinear)\n",
    "\n",
    "        hillshade = compute_hillshade(elevation)\n",
    "\n",
    "        profile = src.profile\n",
    "        profile.update(\n",
    "            dtype=rasterio.uint8,\n",
    "            count=1,\n",
    "            compress='lzw',\n",
    "            nodata=0\n",
    "        )\n",
    "\n",
    "        with rasterio.open(output_path, \"w\", **profile) as dst:\n",
    "            dst.write(hillshade, 1)\n",
    "\n",
    "        print(f\"Hillshade saved: {output_path}\")\n",
    "\n",
    "def main():\n",
    "    for url in dem_urls:\n",
    "        local_dem = download_file(url)\n",
    "        base_name = os.path.splitext(os.path.basename(local_dem))[0]\n",
    "        output_file = os.path.join(output_folder, f\"hillshade_{base_name}.tif\")\n",
    "        process_dem(local_dem, output_file)\n",
    "\n",
    "        # ✅ Delete the DEM file after processing\n",
    "        if os.path.exists(local_dem):\n",
    "            os.remove(local_dem)\n",
    "            print(f\"Deleted: {local_dem}\")\n",
    "\n",
    "if __name__ == \"__main__\":\n",
    "    main()"
   ]
  }
 ],
 "metadata": {
  "kernelspec": {
   "display_name": "geospatial",
   "language": "python",
   "name": "python3"
  },
  "language_info": {
   "codemirror_mode": {
    "name": "ipython",
    "version": 3
   },
   "file_extension": ".py",
   "mimetype": "text/x-python",
   "name": "python",
   "nbconvert_exporter": "python",
   "pygments_lexer": "ipython3",
   "version": "3.10.18"
  }
 },
 "nbformat": 4,
 "nbformat_minor": 5
}
